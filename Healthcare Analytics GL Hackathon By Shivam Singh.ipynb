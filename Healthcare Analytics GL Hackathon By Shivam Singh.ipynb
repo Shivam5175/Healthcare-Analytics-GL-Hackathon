{
 "cells": [
  {
   "cell_type": "markdown",
   "id": "00905a90",
   "metadata": {},
   "source": [
    "# Importing the libraries"
   ]
  },
  {
   "cell_type": "code",
   "execution_count": 1,
   "id": "602e5681",
   "metadata": {},
   "outputs": [],
   "source": [
    "import numpy as np\n",
    "import pandas as pd\n",
    "import matplotlib.pyplot as plt\n",
    "import seaborn as sns\n",
    "import warnings\n",
    "warnings.filterwarnings('ignore')\n",
    "\n",
    "from sklearn.metrics import accuracy_score"
   ]
  },
  {
   "cell_type": "code",
   "execution_count": 2,
   "id": "b867c046",
   "metadata": {},
   "outputs": [],
   "source": [
    "pd.set_option('display.max_columns', None)"
   ]
  },
  {
   "cell_type": "markdown",
   "id": "fa8f2341",
   "metadata": {},
   "source": [
    "# Data Reading"
   ]
  },
  {
   "cell_type": "code",
   "execution_count": 3,
   "id": "13ec6e8e",
   "metadata": {},
   "outputs": [],
   "source": [
    "train = pd.read_csv('train.csv')\n",
    "test = pd.read_csv('test.csv')\n",
    "\n",
    "fhc = pd.read_csv(r\"D:\\great learning\\competition\\GL\\First_Health_Camp.csv\")\n",
    "shc = pd.read_csv(r\"D:\\great learning\\competition\\GL\\Second_Health_Camp.csv\")\n",
    "thc = pd.read_csv(r\"D:\\great learning\\competition\\GL\\Third_Health_Camp.csv\")\n",
    "hcdetail = pd.read_csv(r\"D:\\great learning\\competition\\GL\\Health_Camp_Detail.csv\")\n",
    "pp = pd.read_csv(r\"D:\\great learning\\competition\\GL\\Patient_Details.csv\")\n"
   ]
  },
  {
   "cell_type": "code",
   "execution_count": 4,
   "id": "df5cfb08",
   "metadata": {},
   "outputs": [
    {
     "data": {
      "text/plain": [
       "((52694, 9), (22584, 8))"
      ]
     },
     "execution_count": 4,
     "metadata": {},
     "output_type": "execute_result"
    }
   ],
   "source": [
    "train.shape,test.shape"
   ]
  },
  {
   "cell_type": "markdown",
   "id": "44dc86e4",
   "metadata": {},
   "source": [
    "# Combining the data"
   ]
  },
  {
   "cell_type": "code",
   "execution_count": 5,
   "id": "dfb71be9",
   "metadata": {},
   "outputs": [],
   "source": [
    "\n",
    "combined = pd.concat([train,test],ignore_index=True)"
   ]
  },
  {
   "cell_type": "code",
   "execution_count": 6,
   "id": "731ef4de",
   "metadata": {},
   "outputs": [
    {
     "data": {
      "text/html": [
       "<div>\n",
       "<style scoped>\n",
       "    .dataframe tbody tr th:only-of-type {\n",
       "        vertical-align: middle;\n",
       "    }\n",
       "\n",
       "    .dataframe tbody tr th {\n",
       "        vertical-align: top;\n",
       "    }\n",
       "\n",
       "    .dataframe thead th {\n",
       "        text-align: right;\n",
       "    }\n",
       "</style>\n",
       "<table border=\"1\" class=\"dataframe\">\n",
       "  <thead>\n",
       "    <tr style=\"text-align: right;\">\n",
       "      <th></th>\n",
       "      <th>Patient_ID</th>\n",
       "      <th>Health_Camp_ID</th>\n",
       "      <th>Registration_Date</th>\n",
       "      <th>Var1</th>\n",
       "      <th>Var2</th>\n",
       "      <th>Var3</th>\n",
       "      <th>Var4</th>\n",
       "      <th>Var5</th>\n",
       "      <th>outcome</th>\n",
       "    </tr>\n",
       "  </thead>\n",
       "  <tbody>\n",
       "    <tr>\n",
       "      <th>0</th>\n",
       "      <td>526927</td>\n",
       "      <td>6570</td>\n",
       "      <td>14/05/05</td>\n",
       "      <td>0</td>\n",
       "      <td>0</td>\n",
       "      <td>0</td>\n",
       "      <td>0</td>\n",
       "      <td>0</td>\n",
       "      <td>0.0</td>\n",
       "    </tr>\n",
       "    <tr>\n",
       "      <th>1</th>\n",
       "      <td>510379</td>\n",
       "      <td>6534</td>\n",
       "      <td>26/05/06</td>\n",
       "      <td>0</td>\n",
       "      <td>0</td>\n",
       "      <td>0</td>\n",
       "      <td>0</td>\n",
       "      <td>0</td>\n",
       "      <td>1.0</td>\n",
       "    </tr>\n",
       "    <tr>\n",
       "      <th>2</th>\n",
       "      <td>520968</td>\n",
       "      <td>6557</td>\n",
       "      <td>07/01/04</td>\n",
       "      <td>0</td>\n",
       "      <td>0</td>\n",
       "      <td>0</td>\n",
       "      <td>0</td>\n",
       "      <td>0</td>\n",
       "      <td>1.0</td>\n",
       "    </tr>\n",
       "    <tr>\n",
       "      <th>3</th>\n",
       "      <td>507625</td>\n",
       "      <td>6535</td>\n",
       "      <td>12/02/04</td>\n",
       "      <td>0</td>\n",
       "      <td>0</td>\n",
       "      <td>0</td>\n",
       "      <td>0</td>\n",
       "      <td>0</td>\n",
       "      <td>0.0</td>\n",
       "    </tr>\n",
       "    <tr>\n",
       "      <th>4</th>\n",
       "      <td>502611</td>\n",
       "      <td>6581</td>\n",
       "      <td>14/03/04</td>\n",
       "      <td>0</td>\n",
       "      <td>0</td>\n",
       "      <td>0</td>\n",
       "      <td>0</td>\n",
       "      <td>0</td>\n",
       "      <td>0.0</td>\n",
       "    </tr>\n",
       "  </tbody>\n",
       "</table>\n",
       "</div>"
      ],
      "text/plain": [
       "   Patient_ID  Health_Camp_ID Registration_Date  Var1  Var2  Var3  Var4  Var5  \\\n",
       "0      526927            6570          14/05/05     0     0     0     0     0   \n",
       "1      510379            6534          26/05/06     0     0     0     0     0   \n",
       "2      520968            6557          07/01/04     0     0     0     0     0   \n",
       "3      507625            6535          12/02/04     0     0     0     0     0   \n",
       "4      502611            6581          14/03/04     0     0     0     0     0   \n",
       "\n",
       "   outcome  \n",
       "0      0.0  \n",
       "1      1.0  \n",
       "2      1.0  \n",
       "3      0.0  \n",
       "4      0.0  "
      ]
     },
     "execution_count": 6,
     "metadata": {},
     "output_type": "execute_result"
    }
   ],
   "source": [
    "combined.head()"
   ]
  },
  {
   "cell_type": "code",
   "execution_count": 7,
   "id": "b57a2f51",
   "metadata": {},
   "outputs": [
    {
     "data": {
      "text/plain": [
       "(75278, 9)"
      ]
     },
     "execution_count": 7,
     "metadata": {},
     "output_type": "execute_result"
    }
   ],
   "source": [
    "combined.shape"
   ]
  },
  {
   "cell_type": "code",
   "execution_count": 8,
   "id": "de04f581",
   "metadata": {},
   "outputs": [
    {
     "data": {
      "text/html": [
       "<div>\n",
       "<style scoped>\n",
       "    .dataframe tbody tr th:only-of-type {\n",
       "        vertical-align: middle;\n",
       "    }\n",
       "\n",
       "    .dataframe tbody tr th {\n",
       "        vertical-align: top;\n",
       "    }\n",
       "\n",
       "    .dataframe thead th {\n",
       "        text-align: right;\n",
       "    }\n",
       "</style>\n",
       "<table border=\"1\" class=\"dataframe\">\n",
       "  <thead>\n",
       "    <tr style=\"text-align: right;\">\n",
       "      <th></th>\n",
       "      <th>Patient_ID</th>\n",
       "      <th>Health_Camp_ID</th>\n",
       "      <th>Donation</th>\n",
       "      <th>Health_Score</th>\n",
       "      <th>Unnamed: 4</th>\n",
       "    </tr>\n",
       "  </thead>\n",
       "  <tbody>\n",
       "    <tr>\n",
       "      <th>0</th>\n",
       "      <td>506181</td>\n",
       "      <td>6560</td>\n",
       "      <td>40</td>\n",
       "      <td>0.439024</td>\n",
       "      <td>NaN</td>\n",
       "    </tr>\n",
       "    <tr>\n",
       "      <th>1</th>\n",
       "      <td>494977</td>\n",
       "      <td>6560</td>\n",
       "      <td>20</td>\n",
       "      <td>0.097561</td>\n",
       "      <td>NaN</td>\n",
       "    </tr>\n",
       "    <tr>\n",
       "      <th>2</th>\n",
       "      <td>518680</td>\n",
       "      <td>6560</td>\n",
       "      <td>10</td>\n",
       "      <td>0.048780</td>\n",
       "      <td>NaN</td>\n",
       "    </tr>\n",
       "  </tbody>\n",
       "</table>\n",
       "</div>"
      ],
      "text/plain": [
       "   Patient_ID  Health_Camp_ID  Donation  Health_Score  Unnamed: 4\n",
       "0      506181            6560        40      0.439024         NaN\n",
       "1      494977            6560        20      0.097561         NaN\n",
       "2      518680            6560        10      0.048780         NaN"
      ]
     },
     "execution_count": 8,
     "metadata": {},
     "output_type": "execute_result"
    }
   ],
   "source": [
    "fhc.head(3)"
   ]
  },
  {
   "cell_type": "markdown",
   "id": "8f6b645d",
   "metadata": {},
   "source": [
    "# Merging the Data"
   ]
  },
  {
   "cell_type": "code",
   "execution_count": 9,
   "id": "88ab7537",
   "metadata": {},
   "outputs": [],
   "source": [
    "combined =pd.merge(left= combined, right = fhc, on = ['Patient_ID','Health_Camp_ID'],how= 'left' )"
   ]
  },
  {
   "cell_type": "code",
   "execution_count": 10,
   "id": "bef9ed0c",
   "metadata": {},
   "outputs": [],
   "source": [
    "combined =pd.merge(left= combined, right = shc, on = ['Patient_ID','Health_Camp_ID'],how= 'left' )"
   ]
  },
  {
   "cell_type": "code",
   "execution_count": 11,
   "id": "8a2a8a7e",
   "metadata": {},
   "outputs": [],
   "source": [
    "combined =pd.merge(left= combined, right = thc, on = ['Patient_ID','Health_Camp_ID'],how= 'left' )"
   ]
  },
  {
   "cell_type": "code",
   "execution_count": 12,
   "id": "e40c6ff9",
   "metadata": {},
   "outputs": [
    {
     "data": {
      "text/plain": [
       "(75278, 15)"
      ]
     },
     "execution_count": 12,
     "metadata": {},
     "output_type": "execute_result"
    }
   ],
   "source": [
    "combined.shape"
   ]
  },
  {
   "cell_type": "code",
   "execution_count": 13,
   "id": "7d025f71",
   "metadata": {},
   "outputs": [],
   "source": [
    "combined =pd.merge(left= combined, right = pp, on = ['Patient_ID'],how= 'left' )"
   ]
  },
  {
   "cell_type": "code",
   "execution_count": 14,
   "id": "475b8f54",
   "metadata": {},
   "outputs": [],
   "source": [
    "combined =pd.merge(left= combined, right = hcdetail, on = ['Health_Camp_ID'],how= 'left' )"
   ]
  },
  {
   "cell_type": "code",
   "execution_count": 15,
   "id": "fe194c39",
   "metadata": {},
   "outputs": [
    {
     "data": {
      "text/html": [
       "<div>\n",
       "<style scoped>\n",
       "    .dataframe tbody tr th:only-of-type {\n",
       "        vertical-align: middle;\n",
       "    }\n",
       "\n",
       "    .dataframe tbody tr th {\n",
       "        vertical-align: top;\n",
       "    }\n",
       "\n",
       "    .dataframe thead th {\n",
       "        text-align: right;\n",
       "    }\n",
       "</style>\n",
       "<table border=\"1\" class=\"dataframe\">\n",
       "  <thead>\n",
       "    <tr style=\"text-align: right;\">\n",
       "      <th></th>\n",
       "      <th>Patient_ID</th>\n",
       "      <th>Health_Camp_ID</th>\n",
       "      <th>Registration_Date</th>\n",
       "      <th>Var1</th>\n",
       "      <th>Var2</th>\n",
       "      <th>Var3</th>\n",
       "      <th>Var4</th>\n",
       "      <th>Var5</th>\n",
       "      <th>outcome</th>\n",
       "      <th>Donation</th>\n",
       "      <th>Health_Score</th>\n",
       "      <th>Unnamed: 4</th>\n",
       "      <th>Health Score</th>\n",
       "      <th>Number_of_stall_visited</th>\n",
       "      <th>Last_Stall_Visited_Number</th>\n",
       "      <th>Online_Follower</th>\n",
       "      <th>LinkedIn_Shared</th>\n",
       "      <th>Twitter_Shared</th>\n",
       "      <th>Facebook_Shared</th>\n",
       "      <th>Income</th>\n",
       "      <th>Education_Score</th>\n",
       "      <th>Age</th>\n",
       "      <th>First_Interaction</th>\n",
       "      <th>City_Type</th>\n",
       "      <th>Employer_Category</th>\n",
       "      <th>Camp_Start_Date</th>\n",
       "      <th>Camp_End_Date</th>\n",
       "      <th>Category1</th>\n",
       "      <th>Category2</th>\n",
       "      <th>Category3</th>\n",
       "    </tr>\n",
       "  </thead>\n",
       "  <tbody>\n",
       "    <tr>\n",
       "      <th>0</th>\n",
       "      <td>526927</td>\n",
       "      <td>6570</td>\n",
       "      <td>14/05/05</td>\n",
       "      <td>0</td>\n",
       "      <td>0</td>\n",
       "      <td>0</td>\n",
       "      <td>0</td>\n",
       "      <td>0</td>\n",
       "      <td>0.0</td>\n",
       "      <td>NaN</td>\n",
       "      <td>NaN</td>\n",
       "      <td>NaN</td>\n",
       "      <td>NaN</td>\n",
       "      <td>NaN</td>\n",
       "      <td>NaN</td>\n",
       "      <td>0</td>\n",
       "      <td>0</td>\n",
       "      <td>0</td>\n",
       "      <td>0</td>\n",
       "      <td>None</td>\n",
       "      <td>None</td>\n",
       "      <td>None</td>\n",
       "      <td>14-Nov-04</td>\n",
       "      <td>NaN</td>\n",
       "      <td>NaN</td>\n",
       "      <td>09-Jul-05</td>\n",
       "      <td>22-Jul-05</td>\n",
       "      <td>First</td>\n",
       "      <td>E</td>\n",
       "      <td>2</td>\n",
       "    </tr>\n",
       "    <tr>\n",
       "      <th>1</th>\n",
       "      <td>510379</td>\n",
       "      <td>6534</td>\n",
       "      <td>26/05/06</td>\n",
       "      <td>0</td>\n",
       "      <td>0</td>\n",
       "      <td>0</td>\n",
       "      <td>0</td>\n",
       "      <td>0</td>\n",
       "      <td>1.0</td>\n",
       "      <td>NaN</td>\n",
       "      <td>NaN</td>\n",
       "      <td>NaN</td>\n",
       "      <td>0.402054</td>\n",
       "      <td>NaN</td>\n",
       "      <td>NaN</td>\n",
       "      <td>0</td>\n",
       "      <td>0</td>\n",
       "      <td>0</td>\n",
       "      <td>0</td>\n",
       "      <td>None</td>\n",
       "      <td>None</td>\n",
       "      <td>None</td>\n",
       "      <td>26-May-06</td>\n",
       "      <td>H</td>\n",
       "      <td>NaN</td>\n",
       "      <td>17-Oct-05</td>\n",
       "      <td>07-Nov-07</td>\n",
       "      <td>Second</td>\n",
       "      <td>A</td>\n",
       "      <td>2</td>\n",
       "    </tr>\n",
       "    <tr>\n",
       "      <th>2</th>\n",
       "      <td>520968</td>\n",
       "      <td>6557</td>\n",
       "      <td>07/01/04</td>\n",
       "      <td>0</td>\n",
       "      <td>0</td>\n",
       "      <td>0</td>\n",
       "      <td>0</td>\n",
       "      <td>0</td>\n",
       "      <td>1.0</td>\n",
       "      <td>20.0</td>\n",
       "      <td>0.611111</td>\n",
       "      <td>NaN</td>\n",
       "      <td>NaN</td>\n",
       "      <td>NaN</td>\n",
       "      <td>NaN</td>\n",
       "      <td>0</td>\n",
       "      <td>0</td>\n",
       "      <td>0</td>\n",
       "      <td>0</td>\n",
       "      <td>None</td>\n",
       "      <td>None</td>\n",
       "      <td>None</td>\n",
       "      <td>07-Jan-04</td>\n",
       "      <td>H</td>\n",
       "      <td>NaN</td>\n",
       "      <td>04-Jan-04</td>\n",
       "      <td>09-Jan-04</td>\n",
       "      <td>First</td>\n",
       "      <td>C</td>\n",
       "      <td>2</td>\n",
       "    </tr>\n",
       "    <tr>\n",
       "      <th>3</th>\n",
       "      <td>507625</td>\n",
       "      <td>6535</td>\n",
       "      <td>12/02/04</td>\n",
       "      <td>0</td>\n",
       "      <td>0</td>\n",
       "      <td>0</td>\n",
       "      <td>0</td>\n",
       "      <td>0</td>\n",
       "      <td>0.0</td>\n",
       "      <td>NaN</td>\n",
       "      <td>NaN</td>\n",
       "      <td>NaN</td>\n",
       "      <td>NaN</td>\n",
       "      <td>NaN</td>\n",
       "      <td>NaN</td>\n",
       "      <td>0</td>\n",
       "      <td>0</td>\n",
       "      <td>0</td>\n",
       "      <td>0</td>\n",
       "      <td>None</td>\n",
       "      <td>None</td>\n",
       "      <td>None</td>\n",
       "      <td>12-Feb-04</td>\n",
       "      <td>B</td>\n",
       "      <td>NaN</td>\n",
       "      <td>01-Feb-04</td>\n",
       "      <td>18-Feb-04</td>\n",
       "      <td>First</td>\n",
       "      <td>E</td>\n",
       "      <td>2</td>\n",
       "    </tr>\n",
       "    <tr>\n",
       "      <th>4</th>\n",
       "      <td>502611</td>\n",
       "      <td>6581</td>\n",
       "      <td>14/03/04</td>\n",
       "      <td>0</td>\n",
       "      <td>0</td>\n",
       "      <td>0</td>\n",
       "      <td>0</td>\n",
       "      <td>0</td>\n",
       "      <td>0.0</td>\n",
       "      <td>NaN</td>\n",
       "      <td>NaN</td>\n",
       "      <td>NaN</td>\n",
       "      <td>NaN</td>\n",
       "      <td>NaN</td>\n",
       "      <td>NaN</td>\n",
       "      <td>0</td>\n",
       "      <td>0</td>\n",
       "      <td>0</td>\n",
       "      <td>0</td>\n",
       "      <td>None</td>\n",
       "      <td>None</td>\n",
       "      <td>None</td>\n",
       "      <td>14-Mar-04</td>\n",
       "      <td>B</td>\n",
       "      <td>NaN</td>\n",
       "      <td>07-Dec-03</td>\n",
       "      <td>13-Jun-04</td>\n",
       "      <td>First</td>\n",
       "      <td>F</td>\n",
       "      <td>2</td>\n",
       "    </tr>\n",
       "  </tbody>\n",
       "</table>\n",
       "</div>"
      ],
      "text/plain": [
       "   Patient_ID  Health_Camp_ID Registration_Date  Var1  Var2  Var3  Var4  Var5  \\\n",
       "0      526927            6570          14/05/05     0     0     0     0     0   \n",
       "1      510379            6534          26/05/06     0     0     0     0     0   \n",
       "2      520968            6557          07/01/04     0     0     0     0     0   \n",
       "3      507625            6535          12/02/04     0     0     0     0     0   \n",
       "4      502611            6581          14/03/04     0     0     0     0     0   \n",
       "\n",
       "   outcome  Donation  Health_Score  Unnamed: 4  Health Score  \\\n",
       "0      0.0       NaN           NaN         NaN           NaN   \n",
       "1      1.0       NaN           NaN         NaN      0.402054   \n",
       "2      1.0      20.0      0.611111         NaN           NaN   \n",
       "3      0.0       NaN           NaN         NaN           NaN   \n",
       "4      0.0       NaN           NaN         NaN           NaN   \n",
       "\n",
       "   Number_of_stall_visited  Last_Stall_Visited_Number  Online_Follower  \\\n",
       "0                      NaN                        NaN                0   \n",
       "1                      NaN                        NaN                0   \n",
       "2                      NaN                        NaN                0   \n",
       "3                      NaN                        NaN                0   \n",
       "4                      NaN                        NaN                0   \n",
       "\n",
       "   LinkedIn_Shared  Twitter_Shared  Facebook_Shared Income Education_Score  \\\n",
       "0                0               0                0   None            None   \n",
       "1                0               0                0   None            None   \n",
       "2                0               0                0   None            None   \n",
       "3                0               0                0   None            None   \n",
       "4                0               0                0   None            None   \n",
       "\n",
       "    Age First_Interaction City_Type Employer_Category Camp_Start_Date  \\\n",
       "0  None         14-Nov-04       NaN               NaN       09-Jul-05   \n",
       "1  None         26-May-06         H               NaN       17-Oct-05   \n",
       "2  None         07-Jan-04         H               NaN       04-Jan-04   \n",
       "3  None         12-Feb-04         B               NaN       01-Feb-04   \n",
       "4  None         14-Mar-04         B               NaN       07-Dec-03   \n",
       "\n",
       "  Camp_End_Date Category1 Category2  Category3  \n",
       "0     22-Jul-05     First         E          2  \n",
       "1     07-Nov-07    Second         A          2  \n",
       "2     09-Jan-04     First         C          2  \n",
       "3     18-Feb-04     First         E          2  \n",
       "4     13-Jun-04     First         F          2  "
      ]
     },
     "execution_count": 15,
     "metadata": {},
     "output_type": "execute_result"
    }
   ],
   "source": [
    "combined.head()"
   ]
  },
  {
   "cell_type": "markdown",
   "id": "c264cc46",
   "metadata": {},
   "source": [
    "# Feature Engineering"
   ]
  },
  {
   "cell_type": "code",
   "execution_count": 16,
   "id": "76147ab0",
   "metadata": {},
   "outputs": [],
   "source": [
    "#code to convert string into date\n",
    "combined['Registration_Date'] = pd.to_datetime(combined.Registration_Date,dayfirst=True)\n",
    "\n",
    "combined['Registration_Month'] = combined.Registration_Date.dt.month\n",
    "combined['Registration_Year'] = combined.Registration_Date.dt.year\n",
    "combined['Registration_Day'] = combined.Registration_Date.dt.day"
   ]
  },
  {
   "cell_type": "code",
   "execution_count": 17,
   "id": "9292cee3",
   "metadata": {},
   "outputs": [],
   "source": [
    "#\n",
    "combined['Camp_Start_Month'] = pd.DatetimeIndex(combined.Camp_Start_Date).month\n",
    "combined['Camp_Start_Year'] = pd.DatetimeIndex(combined.Camp_Start_Date).year\n",
    "combined['Camp_Start_Day'] = pd.DatetimeIndex(combined.Camp_Start_Date).day"
   ]
  },
  {
   "cell_type": "code",
   "execution_count": 18,
   "id": "bda79d7c",
   "metadata": {},
   "outputs": [],
   "source": [
    "combined['Camp_End_Month'] = pd.DatetimeIndex(combined.Camp_End_Date).month\n",
    "combined['Camp_End_Year'] = pd.DatetimeIndex(combined.Camp_End_Date).year\n",
    "combined['Camp_End_Day'] = pd.DatetimeIndex(combined.Camp_End_Date).day"
   ]
  },
  {
   "cell_type": "code",
   "execution_count": 19,
   "id": "e2ffff14",
   "metadata": {},
   "outputs": [
    {
     "data": {
      "text/html": [
       "<div>\n",
       "<style scoped>\n",
       "    .dataframe tbody tr th:only-of-type {\n",
       "        vertical-align: middle;\n",
       "    }\n",
       "\n",
       "    .dataframe tbody tr th {\n",
       "        vertical-align: top;\n",
       "    }\n",
       "\n",
       "    .dataframe thead th {\n",
       "        text-align: right;\n",
       "    }\n",
       "</style>\n",
       "<table border=\"1\" class=\"dataframe\">\n",
       "  <thead>\n",
       "    <tr style=\"text-align: right;\">\n",
       "      <th></th>\n",
       "      <th>Patient_ID</th>\n",
       "      <th>Health_Camp_ID</th>\n",
       "      <th>Registration_Date</th>\n",
       "      <th>Var1</th>\n",
       "      <th>Var2</th>\n",
       "      <th>Var3</th>\n",
       "      <th>Var4</th>\n",
       "      <th>Var5</th>\n",
       "      <th>outcome</th>\n",
       "      <th>Donation</th>\n",
       "      <th>Health_Score</th>\n",
       "      <th>Unnamed: 4</th>\n",
       "      <th>Health Score</th>\n",
       "      <th>Number_of_stall_visited</th>\n",
       "      <th>Last_Stall_Visited_Number</th>\n",
       "      <th>Online_Follower</th>\n",
       "      <th>LinkedIn_Shared</th>\n",
       "      <th>Twitter_Shared</th>\n",
       "      <th>Facebook_Shared</th>\n",
       "      <th>Income</th>\n",
       "      <th>Education_Score</th>\n",
       "      <th>Age</th>\n",
       "      <th>First_Interaction</th>\n",
       "      <th>City_Type</th>\n",
       "      <th>Employer_Category</th>\n",
       "      <th>Camp_Start_Date</th>\n",
       "      <th>Camp_End_Date</th>\n",
       "      <th>Category1</th>\n",
       "      <th>Category2</th>\n",
       "      <th>Category3</th>\n",
       "      <th>Registration_Month</th>\n",
       "      <th>Registration_Year</th>\n",
       "      <th>Registration_Day</th>\n",
       "      <th>Camp_Start_Month</th>\n",
       "      <th>Camp_Start_Year</th>\n",
       "      <th>Camp_Start_Day</th>\n",
       "      <th>Camp_End_Month</th>\n",
       "      <th>Camp_End_Year</th>\n",
       "      <th>Camp_End_Day</th>\n",
       "    </tr>\n",
       "  </thead>\n",
       "  <tbody>\n",
       "    <tr>\n",
       "      <th>0</th>\n",
       "      <td>526927</td>\n",
       "      <td>6570</td>\n",
       "      <td>2005-05-14</td>\n",
       "      <td>0</td>\n",
       "      <td>0</td>\n",
       "      <td>0</td>\n",
       "      <td>0</td>\n",
       "      <td>0</td>\n",
       "      <td>0.0</td>\n",
       "      <td>NaN</td>\n",
       "      <td>NaN</td>\n",
       "      <td>NaN</td>\n",
       "      <td>NaN</td>\n",
       "      <td>NaN</td>\n",
       "      <td>NaN</td>\n",
       "      <td>0</td>\n",
       "      <td>0</td>\n",
       "      <td>0</td>\n",
       "      <td>0</td>\n",
       "      <td>None</td>\n",
       "      <td>None</td>\n",
       "      <td>None</td>\n",
       "      <td>14-Nov-04</td>\n",
       "      <td>NaN</td>\n",
       "      <td>NaN</td>\n",
       "      <td>09-Jul-05</td>\n",
       "      <td>22-Jul-05</td>\n",
       "      <td>First</td>\n",
       "      <td>E</td>\n",
       "      <td>2</td>\n",
       "      <td>5.0</td>\n",
       "      <td>2005.0</td>\n",
       "      <td>14.0</td>\n",
       "      <td>7</td>\n",
       "      <td>2005</td>\n",
       "      <td>9</td>\n",
       "      <td>7</td>\n",
       "      <td>2005</td>\n",
       "      <td>22</td>\n",
       "    </tr>\n",
       "    <tr>\n",
       "      <th>1</th>\n",
       "      <td>510379</td>\n",
       "      <td>6534</td>\n",
       "      <td>2006-05-26</td>\n",
       "      <td>0</td>\n",
       "      <td>0</td>\n",
       "      <td>0</td>\n",
       "      <td>0</td>\n",
       "      <td>0</td>\n",
       "      <td>1.0</td>\n",
       "      <td>NaN</td>\n",
       "      <td>NaN</td>\n",
       "      <td>NaN</td>\n",
       "      <td>0.402054</td>\n",
       "      <td>NaN</td>\n",
       "      <td>NaN</td>\n",
       "      <td>0</td>\n",
       "      <td>0</td>\n",
       "      <td>0</td>\n",
       "      <td>0</td>\n",
       "      <td>None</td>\n",
       "      <td>None</td>\n",
       "      <td>None</td>\n",
       "      <td>26-May-06</td>\n",
       "      <td>H</td>\n",
       "      <td>NaN</td>\n",
       "      <td>17-Oct-05</td>\n",
       "      <td>07-Nov-07</td>\n",
       "      <td>Second</td>\n",
       "      <td>A</td>\n",
       "      <td>2</td>\n",
       "      <td>5.0</td>\n",
       "      <td>2006.0</td>\n",
       "      <td>26.0</td>\n",
       "      <td>10</td>\n",
       "      <td>2005</td>\n",
       "      <td>17</td>\n",
       "      <td>11</td>\n",
       "      <td>2007</td>\n",
       "      <td>7</td>\n",
       "    </tr>\n",
       "    <tr>\n",
       "      <th>2</th>\n",
       "      <td>520968</td>\n",
       "      <td>6557</td>\n",
       "      <td>2004-01-07</td>\n",
       "      <td>0</td>\n",
       "      <td>0</td>\n",
       "      <td>0</td>\n",
       "      <td>0</td>\n",
       "      <td>0</td>\n",
       "      <td>1.0</td>\n",
       "      <td>20.0</td>\n",
       "      <td>0.611111</td>\n",
       "      <td>NaN</td>\n",
       "      <td>NaN</td>\n",
       "      <td>NaN</td>\n",
       "      <td>NaN</td>\n",
       "      <td>0</td>\n",
       "      <td>0</td>\n",
       "      <td>0</td>\n",
       "      <td>0</td>\n",
       "      <td>None</td>\n",
       "      <td>None</td>\n",
       "      <td>None</td>\n",
       "      <td>07-Jan-04</td>\n",
       "      <td>H</td>\n",
       "      <td>NaN</td>\n",
       "      <td>04-Jan-04</td>\n",
       "      <td>09-Jan-04</td>\n",
       "      <td>First</td>\n",
       "      <td>C</td>\n",
       "      <td>2</td>\n",
       "      <td>1.0</td>\n",
       "      <td>2004.0</td>\n",
       "      <td>7.0</td>\n",
       "      <td>1</td>\n",
       "      <td>2004</td>\n",
       "      <td>4</td>\n",
       "      <td>1</td>\n",
       "      <td>2004</td>\n",
       "      <td>9</td>\n",
       "    </tr>\n",
       "    <tr>\n",
       "      <th>3</th>\n",
       "      <td>507625</td>\n",
       "      <td>6535</td>\n",
       "      <td>2004-02-12</td>\n",
       "      <td>0</td>\n",
       "      <td>0</td>\n",
       "      <td>0</td>\n",
       "      <td>0</td>\n",
       "      <td>0</td>\n",
       "      <td>0.0</td>\n",
       "      <td>NaN</td>\n",
       "      <td>NaN</td>\n",
       "      <td>NaN</td>\n",
       "      <td>NaN</td>\n",
       "      <td>NaN</td>\n",
       "      <td>NaN</td>\n",
       "      <td>0</td>\n",
       "      <td>0</td>\n",
       "      <td>0</td>\n",
       "      <td>0</td>\n",
       "      <td>None</td>\n",
       "      <td>None</td>\n",
       "      <td>None</td>\n",
       "      <td>12-Feb-04</td>\n",
       "      <td>B</td>\n",
       "      <td>NaN</td>\n",
       "      <td>01-Feb-04</td>\n",
       "      <td>18-Feb-04</td>\n",
       "      <td>First</td>\n",
       "      <td>E</td>\n",
       "      <td>2</td>\n",
       "      <td>2.0</td>\n",
       "      <td>2004.0</td>\n",
       "      <td>12.0</td>\n",
       "      <td>2</td>\n",
       "      <td>2004</td>\n",
       "      <td>1</td>\n",
       "      <td>2</td>\n",
       "      <td>2004</td>\n",
       "      <td>18</td>\n",
       "    </tr>\n",
       "    <tr>\n",
       "      <th>4</th>\n",
       "      <td>502611</td>\n",
       "      <td>6581</td>\n",
       "      <td>2004-03-14</td>\n",
       "      <td>0</td>\n",
       "      <td>0</td>\n",
       "      <td>0</td>\n",
       "      <td>0</td>\n",
       "      <td>0</td>\n",
       "      <td>0.0</td>\n",
       "      <td>NaN</td>\n",
       "      <td>NaN</td>\n",
       "      <td>NaN</td>\n",
       "      <td>NaN</td>\n",
       "      <td>NaN</td>\n",
       "      <td>NaN</td>\n",
       "      <td>0</td>\n",
       "      <td>0</td>\n",
       "      <td>0</td>\n",
       "      <td>0</td>\n",
       "      <td>None</td>\n",
       "      <td>None</td>\n",
       "      <td>None</td>\n",
       "      <td>14-Mar-04</td>\n",
       "      <td>B</td>\n",
       "      <td>NaN</td>\n",
       "      <td>07-Dec-03</td>\n",
       "      <td>13-Jun-04</td>\n",
       "      <td>First</td>\n",
       "      <td>F</td>\n",
       "      <td>2</td>\n",
       "      <td>3.0</td>\n",
       "      <td>2004.0</td>\n",
       "      <td>14.0</td>\n",
       "      <td>12</td>\n",
       "      <td>2003</td>\n",
       "      <td>7</td>\n",
       "      <td>6</td>\n",
       "      <td>2004</td>\n",
       "      <td>13</td>\n",
       "    </tr>\n",
       "  </tbody>\n",
       "</table>\n",
       "</div>"
      ],
      "text/plain": [
       "   Patient_ID  Health_Camp_ID Registration_Date  Var1  Var2  Var3  Var4  Var5  \\\n",
       "0      526927            6570        2005-05-14     0     0     0     0     0   \n",
       "1      510379            6534        2006-05-26     0     0     0     0     0   \n",
       "2      520968            6557        2004-01-07     0     0     0     0     0   \n",
       "3      507625            6535        2004-02-12     0     0     0     0     0   \n",
       "4      502611            6581        2004-03-14     0     0     0     0     0   \n",
       "\n",
       "   outcome  Donation  Health_Score  Unnamed: 4  Health Score  \\\n",
       "0      0.0       NaN           NaN         NaN           NaN   \n",
       "1      1.0       NaN           NaN         NaN      0.402054   \n",
       "2      1.0      20.0      0.611111         NaN           NaN   \n",
       "3      0.0       NaN           NaN         NaN           NaN   \n",
       "4      0.0       NaN           NaN         NaN           NaN   \n",
       "\n",
       "   Number_of_stall_visited  Last_Stall_Visited_Number  Online_Follower  \\\n",
       "0                      NaN                        NaN                0   \n",
       "1                      NaN                        NaN                0   \n",
       "2                      NaN                        NaN                0   \n",
       "3                      NaN                        NaN                0   \n",
       "4                      NaN                        NaN                0   \n",
       "\n",
       "   LinkedIn_Shared  Twitter_Shared  Facebook_Shared Income Education_Score  \\\n",
       "0                0               0                0   None            None   \n",
       "1                0               0                0   None            None   \n",
       "2                0               0                0   None            None   \n",
       "3                0               0                0   None            None   \n",
       "4                0               0                0   None            None   \n",
       "\n",
       "    Age First_Interaction City_Type Employer_Category Camp_Start_Date  \\\n",
       "0  None         14-Nov-04       NaN               NaN       09-Jul-05   \n",
       "1  None         26-May-06         H               NaN       17-Oct-05   \n",
       "2  None         07-Jan-04         H               NaN       04-Jan-04   \n",
       "3  None         12-Feb-04         B               NaN       01-Feb-04   \n",
       "4  None         14-Mar-04         B               NaN       07-Dec-03   \n",
       "\n",
       "  Camp_End_Date Category1 Category2  Category3  Registration_Month  \\\n",
       "0     22-Jul-05     First         E          2                 5.0   \n",
       "1     07-Nov-07    Second         A          2                 5.0   \n",
       "2     09-Jan-04     First         C          2                 1.0   \n",
       "3     18-Feb-04     First         E          2                 2.0   \n",
       "4     13-Jun-04     First         F          2                 3.0   \n",
       "\n",
       "   Registration_Year  Registration_Day  Camp_Start_Month  Camp_Start_Year  \\\n",
       "0             2005.0              14.0                 7             2005   \n",
       "1             2006.0              26.0                10             2005   \n",
       "2             2004.0               7.0                 1             2004   \n",
       "3             2004.0              12.0                 2             2004   \n",
       "4             2004.0              14.0                12             2003   \n",
       "\n",
       "   Camp_Start_Day  Camp_End_Month  Camp_End_Year  Camp_End_Day  \n",
       "0               9               7           2005            22  \n",
       "1              17              11           2007             7  \n",
       "2               4               1           2004             9  \n",
       "3               1               2           2004            18  \n",
       "4               7               6           2004            13  "
      ]
     },
     "execution_count": 19,
     "metadata": {},
     "output_type": "execute_result"
    }
   ],
   "source": [
    "combined.head()"
   ]
  },
  {
   "cell_type": "code",
   "execution_count": 20,
   "id": "8fc5a6c9",
   "metadata": {},
   "outputs": [],
   "source": [
    "#creating online presence using patient data\n",
    "combined['Online_Presence'] = combined['Online_Follower']+combined['LinkedIn_Shared']+combined['Twitter_Shared']+combined['Facebook_Shared']"
   ]
  },
  {
   "cell_type": "code",
   "execution_count": 21,
   "id": "7c44e5c6",
   "metadata": {},
   "outputs": [],
   "source": [
    "#dropping above columns\n",
    "combined = combined.drop(['Online_Follower','LinkedIn_Shared','Twitter_Shared','Facebook_Shared'],axis=1)"
   ]
  },
  {
   "cell_type": "code",
   "execution_count": 22,
   "id": "256a2f67",
   "metadata": {},
   "outputs": [],
   "source": [
    "#camp Duration from CampEndDate - Camp Start Date\n",
    "\n",
    "combined['Camp_Start_Date'] = pd.to_datetime(combined.Camp_Start_Date,dayfirst=True)\n",
    "\n",
    "combined['Camp_End_Date'] = pd.to_datetime(combined.Camp_End_Date,dayfirst=True)\n",
    "\n",
    "combined['Camp_Duration'] = (combined['Camp_End_Date'] -combined['Camp_Start_Date'] ).dt.days\n",
    "\n"
   ]
  },
  {
   "cell_type": "code",
   "execution_count": 23,
   "id": "4f5511ef",
   "metadata": {},
   "outputs": [],
   "source": [
    "#converting the First interaction date into datetime format\n",
    "combined['First_Interaction'] = pd.to_datetime(combined.First_Interaction,dayfirst=True)\n",
    "\n",
    "\n",
    "#Day_interaction_diff = registration date -first interaction\n",
    "combined['Int_Days_Diff'] = (combined['Registration_Date']-combined['First_Interaction']).dt.days"
   ]
  },
  {
   "cell_type": "code",
   "execution_count": 24,
   "id": "bc181bb3",
   "metadata": {},
   "outputs": [
    {
     "data": {
      "text/html": [
       "<div>\n",
       "<style scoped>\n",
       "    .dataframe tbody tr th:only-of-type {\n",
       "        vertical-align: middle;\n",
       "    }\n",
       "\n",
       "    .dataframe tbody tr th {\n",
       "        vertical-align: top;\n",
       "    }\n",
       "\n",
       "    .dataframe thead th {\n",
       "        text-align: right;\n",
       "    }\n",
       "</style>\n",
       "<table border=\"1\" class=\"dataframe\">\n",
       "  <thead>\n",
       "    <tr style=\"text-align: right;\">\n",
       "      <th></th>\n",
       "      <th>Patient_ID</th>\n",
       "      <th>Health_Camp_ID</th>\n",
       "      <th>Registration_Date</th>\n",
       "      <th>Var1</th>\n",
       "      <th>Var2</th>\n",
       "      <th>Var3</th>\n",
       "      <th>Var4</th>\n",
       "      <th>Var5</th>\n",
       "      <th>outcome</th>\n",
       "      <th>Donation</th>\n",
       "      <th>Health_Score</th>\n",
       "      <th>Unnamed: 4</th>\n",
       "      <th>Health Score</th>\n",
       "      <th>Number_of_stall_visited</th>\n",
       "      <th>Last_Stall_Visited_Number</th>\n",
       "      <th>Income</th>\n",
       "      <th>Education_Score</th>\n",
       "      <th>Age</th>\n",
       "      <th>First_Interaction</th>\n",
       "      <th>City_Type</th>\n",
       "      <th>Employer_Category</th>\n",
       "      <th>Camp_Start_Date</th>\n",
       "      <th>Camp_End_Date</th>\n",
       "      <th>Category1</th>\n",
       "      <th>Category2</th>\n",
       "      <th>Category3</th>\n",
       "      <th>Registration_Month</th>\n",
       "      <th>Registration_Year</th>\n",
       "      <th>Registration_Day</th>\n",
       "      <th>Camp_Start_Month</th>\n",
       "      <th>Camp_Start_Year</th>\n",
       "      <th>Camp_Start_Day</th>\n",
       "      <th>Camp_End_Month</th>\n",
       "      <th>Camp_End_Year</th>\n",
       "      <th>Camp_End_Day</th>\n",
       "      <th>Online_Presence</th>\n",
       "      <th>Camp_Duration</th>\n",
       "      <th>Int_Days_Diff</th>\n",
       "    </tr>\n",
       "  </thead>\n",
       "  <tbody>\n",
       "    <tr>\n",
       "      <th>0</th>\n",
       "      <td>526927</td>\n",
       "      <td>6570</td>\n",
       "      <td>2005-05-14</td>\n",
       "      <td>0</td>\n",
       "      <td>0</td>\n",
       "      <td>0</td>\n",
       "      <td>0</td>\n",
       "      <td>0</td>\n",
       "      <td>0.0</td>\n",
       "      <td>NaN</td>\n",
       "      <td>NaN</td>\n",
       "      <td>NaN</td>\n",
       "      <td>NaN</td>\n",
       "      <td>NaN</td>\n",
       "      <td>NaN</td>\n",
       "      <td>None</td>\n",
       "      <td>None</td>\n",
       "      <td>None</td>\n",
       "      <td>2004-11-14</td>\n",
       "      <td>NaN</td>\n",
       "      <td>NaN</td>\n",
       "      <td>2005-07-09</td>\n",
       "      <td>2005-07-22</td>\n",
       "      <td>First</td>\n",
       "      <td>E</td>\n",
       "      <td>2</td>\n",
       "      <td>5.0</td>\n",
       "      <td>2005.0</td>\n",
       "      <td>14.0</td>\n",
       "      <td>7</td>\n",
       "      <td>2005</td>\n",
       "      <td>9</td>\n",
       "      <td>7</td>\n",
       "      <td>2005</td>\n",
       "      <td>22</td>\n",
       "      <td>0</td>\n",
       "      <td>13</td>\n",
       "      <td>181.0</td>\n",
       "    </tr>\n",
       "    <tr>\n",
       "      <th>1</th>\n",
       "      <td>510379</td>\n",
       "      <td>6534</td>\n",
       "      <td>2006-05-26</td>\n",
       "      <td>0</td>\n",
       "      <td>0</td>\n",
       "      <td>0</td>\n",
       "      <td>0</td>\n",
       "      <td>0</td>\n",
       "      <td>1.0</td>\n",
       "      <td>NaN</td>\n",
       "      <td>NaN</td>\n",
       "      <td>NaN</td>\n",
       "      <td>0.402054</td>\n",
       "      <td>NaN</td>\n",
       "      <td>NaN</td>\n",
       "      <td>None</td>\n",
       "      <td>None</td>\n",
       "      <td>None</td>\n",
       "      <td>2006-05-26</td>\n",
       "      <td>H</td>\n",
       "      <td>NaN</td>\n",
       "      <td>2005-10-17</td>\n",
       "      <td>2007-11-07</td>\n",
       "      <td>Second</td>\n",
       "      <td>A</td>\n",
       "      <td>2</td>\n",
       "      <td>5.0</td>\n",
       "      <td>2006.0</td>\n",
       "      <td>26.0</td>\n",
       "      <td>10</td>\n",
       "      <td>2005</td>\n",
       "      <td>17</td>\n",
       "      <td>11</td>\n",
       "      <td>2007</td>\n",
       "      <td>7</td>\n",
       "      <td>0</td>\n",
       "      <td>751</td>\n",
       "      <td>0.0</td>\n",
       "    </tr>\n",
       "    <tr>\n",
       "      <th>2</th>\n",
       "      <td>520968</td>\n",
       "      <td>6557</td>\n",
       "      <td>2004-01-07</td>\n",
       "      <td>0</td>\n",
       "      <td>0</td>\n",
       "      <td>0</td>\n",
       "      <td>0</td>\n",
       "      <td>0</td>\n",
       "      <td>1.0</td>\n",
       "      <td>20.0</td>\n",
       "      <td>0.611111</td>\n",
       "      <td>NaN</td>\n",
       "      <td>NaN</td>\n",
       "      <td>NaN</td>\n",
       "      <td>NaN</td>\n",
       "      <td>None</td>\n",
       "      <td>None</td>\n",
       "      <td>None</td>\n",
       "      <td>2004-01-07</td>\n",
       "      <td>H</td>\n",
       "      <td>NaN</td>\n",
       "      <td>2004-01-04</td>\n",
       "      <td>2004-01-09</td>\n",
       "      <td>First</td>\n",
       "      <td>C</td>\n",
       "      <td>2</td>\n",
       "      <td>1.0</td>\n",
       "      <td>2004.0</td>\n",
       "      <td>7.0</td>\n",
       "      <td>1</td>\n",
       "      <td>2004</td>\n",
       "      <td>4</td>\n",
       "      <td>1</td>\n",
       "      <td>2004</td>\n",
       "      <td>9</td>\n",
       "      <td>0</td>\n",
       "      <td>5</td>\n",
       "      <td>0.0</td>\n",
       "    </tr>\n",
       "    <tr>\n",
       "      <th>3</th>\n",
       "      <td>507625</td>\n",
       "      <td>6535</td>\n",
       "      <td>2004-02-12</td>\n",
       "      <td>0</td>\n",
       "      <td>0</td>\n",
       "      <td>0</td>\n",
       "      <td>0</td>\n",
       "      <td>0</td>\n",
       "      <td>0.0</td>\n",
       "      <td>NaN</td>\n",
       "      <td>NaN</td>\n",
       "      <td>NaN</td>\n",
       "      <td>NaN</td>\n",
       "      <td>NaN</td>\n",
       "      <td>NaN</td>\n",
       "      <td>None</td>\n",
       "      <td>None</td>\n",
       "      <td>None</td>\n",
       "      <td>2004-02-12</td>\n",
       "      <td>B</td>\n",
       "      <td>NaN</td>\n",
       "      <td>2004-02-01</td>\n",
       "      <td>2004-02-18</td>\n",
       "      <td>First</td>\n",
       "      <td>E</td>\n",
       "      <td>2</td>\n",
       "      <td>2.0</td>\n",
       "      <td>2004.0</td>\n",
       "      <td>12.0</td>\n",
       "      <td>2</td>\n",
       "      <td>2004</td>\n",
       "      <td>1</td>\n",
       "      <td>2</td>\n",
       "      <td>2004</td>\n",
       "      <td>18</td>\n",
       "      <td>0</td>\n",
       "      <td>17</td>\n",
       "      <td>0.0</td>\n",
       "    </tr>\n",
       "    <tr>\n",
       "      <th>4</th>\n",
       "      <td>502611</td>\n",
       "      <td>6581</td>\n",
       "      <td>2004-03-14</td>\n",
       "      <td>0</td>\n",
       "      <td>0</td>\n",
       "      <td>0</td>\n",
       "      <td>0</td>\n",
       "      <td>0</td>\n",
       "      <td>0.0</td>\n",
       "      <td>NaN</td>\n",
       "      <td>NaN</td>\n",
       "      <td>NaN</td>\n",
       "      <td>NaN</td>\n",
       "      <td>NaN</td>\n",
       "      <td>NaN</td>\n",
       "      <td>None</td>\n",
       "      <td>None</td>\n",
       "      <td>None</td>\n",
       "      <td>2004-03-14</td>\n",
       "      <td>B</td>\n",
       "      <td>NaN</td>\n",
       "      <td>2003-12-07</td>\n",
       "      <td>2004-06-13</td>\n",
       "      <td>First</td>\n",
       "      <td>F</td>\n",
       "      <td>2</td>\n",
       "      <td>3.0</td>\n",
       "      <td>2004.0</td>\n",
       "      <td>14.0</td>\n",
       "      <td>12</td>\n",
       "      <td>2003</td>\n",
       "      <td>7</td>\n",
       "      <td>6</td>\n",
       "      <td>2004</td>\n",
       "      <td>13</td>\n",
       "      <td>0</td>\n",
       "      <td>189</td>\n",
       "      <td>0.0</td>\n",
       "    </tr>\n",
       "  </tbody>\n",
       "</table>\n",
       "</div>"
      ],
      "text/plain": [
       "   Patient_ID  Health_Camp_ID Registration_Date  Var1  Var2  Var3  Var4  Var5  \\\n",
       "0      526927            6570        2005-05-14     0     0     0     0     0   \n",
       "1      510379            6534        2006-05-26     0     0     0     0     0   \n",
       "2      520968            6557        2004-01-07     0     0     0     0     0   \n",
       "3      507625            6535        2004-02-12     0     0     0     0     0   \n",
       "4      502611            6581        2004-03-14     0     0     0     0     0   \n",
       "\n",
       "   outcome  Donation  Health_Score  Unnamed: 4  Health Score  \\\n",
       "0      0.0       NaN           NaN         NaN           NaN   \n",
       "1      1.0       NaN           NaN         NaN      0.402054   \n",
       "2      1.0      20.0      0.611111         NaN           NaN   \n",
       "3      0.0       NaN           NaN         NaN           NaN   \n",
       "4      0.0       NaN           NaN         NaN           NaN   \n",
       "\n",
       "   Number_of_stall_visited  Last_Stall_Visited_Number Income Education_Score  \\\n",
       "0                      NaN                        NaN   None            None   \n",
       "1                      NaN                        NaN   None            None   \n",
       "2                      NaN                        NaN   None            None   \n",
       "3                      NaN                        NaN   None            None   \n",
       "4                      NaN                        NaN   None            None   \n",
       "\n",
       "    Age First_Interaction City_Type Employer_Category Camp_Start_Date  \\\n",
       "0  None        2004-11-14       NaN               NaN      2005-07-09   \n",
       "1  None        2006-05-26         H               NaN      2005-10-17   \n",
       "2  None        2004-01-07         H               NaN      2004-01-04   \n",
       "3  None        2004-02-12         B               NaN      2004-02-01   \n",
       "4  None        2004-03-14         B               NaN      2003-12-07   \n",
       "\n",
       "  Camp_End_Date Category1 Category2  Category3  Registration_Month  \\\n",
       "0    2005-07-22     First         E          2                 5.0   \n",
       "1    2007-11-07    Second         A          2                 5.0   \n",
       "2    2004-01-09     First         C          2                 1.0   \n",
       "3    2004-02-18     First         E          2                 2.0   \n",
       "4    2004-06-13     First         F          2                 3.0   \n",
       "\n",
       "   Registration_Year  Registration_Day  Camp_Start_Month  Camp_Start_Year  \\\n",
       "0             2005.0              14.0                 7             2005   \n",
       "1             2006.0              26.0                10             2005   \n",
       "2             2004.0               7.0                 1             2004   \n",
       "3             2004.0              12.0                 2             2004   \n",
       "4             2004.0              14.0                12             2003   \n",
       "\n",
       "   Camp_Start_Day  Camp_End_Month  Camp_End_Year  Camp_End_Day  \\\n",
       "0               9               7           2005            22   \n",
       "1              17              11           2007             7   \n",
       "2               4               1           2004             9   \n",
       "3               1               2           2004            18   \n",
       "4               7               6           2004            13   \n",
       "\n",
       "   Online_Presence  Camp_Duration  Int_Days_Diff  \n",
       "0                0             13          181.0  \n",
       "1                0            751            0.0  \n",
       "2                0              5            0.0  \n",
       "3                0             17            0.0  \n",
       "4                0            189            0.0  "
      ]
     },
     "execution_count": 24,
     "metadata": {},
     "output_type": "execute_result"
    }
   ],
   "source": [
    "combined.head()"
   ]
  },
  {
   "cell_type": "code",
   "execution_count": 25,
   "id": "de97b23f",
   "metadata": {},
   "outputs": [],
   "source": [
    "#Unique patient per HC\n",
    "combined['HC_per_patiency'] = combined.groupby('Patient_ID')['Health_Camp_ID'].transform('nunique')\n",
    "combined[\"Patient_Per_HC\"] = combined.groupby('Health_Camp_ID')['Patient_ID'].transform('nunique')"
   ]
  },
  {
   "cell_type": "code",
   "execution_count": 26,
   "id": "f5bd09ed",
   "metadata": {},
   "outputs": [],
   "source": [
    "#unique patient visited in beginning of the year camp started\n",
    "\n",
    "combined['Patients_Per_Year'] = combined.groupby('Camp_Start_Year')['Patient_ID'].transform('nunique')\n",
    "combined['Patients_Per_Month'] = combined.groupby('Camp_Start_Month')['Patient_ID'].transform('nunique')"
   ]
  },
  {
   "cell_type": "code",
   "execution_count": 27,
   "id": "33c139b9",
   "metadata": {},
   "outputs": [
    {
     "data": {
      "text/plain": [
       "(75278, 42)"
      ]
     },
     "execution_count": 27,
     "metadata": {},
     "output_type": "execute_result"
    }
   ],
   "source": [
    "combined.shape"
   ]
  },
  {
   "cell_type": "code",
   "execution_count": 28,
   "id": "2d4158d0",
   "metadata": {},
   "outputs": [],
   "source": [
    "#unique patient visited in END of the year camp started\n",
    "\n",
    "combined['Patients_Per_End_Year'] = combined.groupby('Camp_End_Year')['Patient_ID'].transform('nunique')\n",
    "combined['Patients_Per_End_Month'] = combined.groupby('Camp_End_Month')['Patient_ID'].transform('nunique')"
   ]
  },
  {
   "cell_type": "code",
   "execution_count": 29,
   "id": "949ec416",
   "metadata": {},
   "outputs": [
    {
     "data": {
      "text/html": [
       "<div>\n",
       "<style scoped>\n",
       "    .dataframe tbody tr th:only-of-type {\n",
       "        vertical-align: middle;\n",
       "    }\n",
       "\n",
       "    .dataframe tbody tr th {\n",
       "        vertical-align: top;\n",
       "    }\n",
       "\n",
       "    .dataframe thead th {\n",
       "        text-align: right;\n",
       "    }\n",
       "</style>\n",
       "<table border=\"1\" class=\"dataframe\">\n",
       "  <thead>\n",
       "    <tr style=\"text-align: right;\">\n",
       "      <th></th>\n",
       "      <th>Patient_ID</th>\n",
       "      <th>Health_Camp_ID</th>\n",
       "      <th>Registration_Date</th>\n",
       "      <th>Var1</th>\n",
       "      <th>Var2</th>\n",
       "      <th>Var3</th>\n",
       "      <th>Var4</th>\n",
       "      <th>Var5</th>\n",
       "      <th>outcome</th>\n",
       "      <th>Donation</th>\n",
       "      <th>Health_Score</th>\n",
       "      <th>Unnamed: 4</th>\n",
       "      <th>Health Score</th>\n",
       "      <th>Number_of_stall_visited</th>\n",
       "      <th>Last_Stall_Visited_Number</th>\n",
       "      <th>Income</th>\n",
       "      <th>Education_Score</th>\n",
       "      <th>Age</th>\n",
       "      <th>First_Interaction</th>\n",
       "      <th>City_Type</th>\n",
       "      <th>Employer_Category</th>\n",
       "      <th>Camp_Start_Date</th>\n",
       "      <th>Camp_End_Date</th>\n",
       "      <th>Category1</th>\n",
       "      <th>Category2</th>\n",
       "      <th>Category3</th>\n",
       "      <th>Registration_Month</th>\n",
       "      <th>Registration_Year</th>\n",
       "      <th>Registration_Day</th>\n",
       "      <th>Camp_Start_Month</th>\n",
       "      <th>Camp_Start_Year</th>\n",
       "      <th>Camp_Start_Day</th>\n",
       "      <th>Camp_End_Month</th>\n",
       "      <th>Camp_End_Year</th>\n",
       "      <th>Camp_End_Day</th>\n",
       "      <th>Online_Presence</th>\n",
       "      <th>Camp_Duration</th>\n",
       "      <th>Int_Days_Diff</th>\n",
       "      <th>HC_per_patiency</th>\n",
       "      <th>Patient_Per_HC</th>\n",
       "      <th>Patients_Per_Year</th>\n",
       "      <th>Patients_Per_Month</th>\n",
       "      <th>Patients_Per_End_Year</th>\n",
       "      <th>Patients_Per_End_Month</th>\n",
       "    </tr>\n",
       "  </thead>\n",
       "  <tbody>\n",
       "    <tr>\n",
       "      <th>0</th>\n",
       "      <td>526927</td>\n",
       "      <td>6570</td>\n",
       "      <td>2005-05-14</td>\n",
       "      <td>0</td>\n",
       "      <td>0</td>\n",
       "      <td>0</td>\n",
       "      <td>0</td>\n",
       "      <td>0</td>\n",
       "      <td>0.0</td>\n",
       "      <td>NaN</td>\n",
       "      <td>NaN</td>\n",
       "      <td>NaN</td>\n",
       "      <td>NaN</td>\n",
       "      <td>NaN</td>\n",
       "      <td>NaN</td>\n",
       "      <td>None</td>\n",
       "      <td>None</td>\n",
       "      <td>None</td>\n",
       "      <td>2004-11-14</td>\n",
       "      <td>NaN</td>\n",
       "      <td>NaN</td>\n",
       "      <td>2005-07-09</td>\n",
       "      <td>2005-07-22</td>\n",
       "      <td>First</td>\n",
       "      <td>E</td>\n",
       "      <td>2</td>\n",
       "      <td>5.0</td>\n",
       "      <td>2005.0</td>\n",
       "      <td>14.0</td>\n",
       "      <td>7</td>\n",
       "      <td>2005</td>\n",
       "      <td>9</td>\n",
       "      <td>7</td>\n",
       "      <td>2005</td>\n",
       "      <td>22</td>\n",
       "      <td>0</td>\n",
       "      <td>13</td>\n",
       "      <td>181.0</td>\n",
       "      <td>2</td>\n",
       "      <td>3564</td>\n",
       "      <td>22359</td>\n",
       "      <td>3564</td>\n",
       "      <td>17330</td>\n",
       "      <td>7008</td>\n",
       "    </tr>\n",
       "    <tr>\n",
       "      <th>1</th>\n",
       "      <td>510379</td>\n",
       "      <td>6534</td>\n",
       "      <td>2006-05-26</td>\n",
       "      <td>0</td>\n",
       "      <td>0</td>\n",
       "      <td>0</td>\n",
       "      <td>0</td>\n",
       "      <td>0</td>\n",
       "      <td>1.0</td>\n",
       "      <td>NaN</td>\n",
       "      <td>NaN</td>\n",
       "      <td>NaN</td>\n",
       "      <td>0.402054</td>\n",
       "      <td>NaN</td>\n",
       "      <td>NaN</td>\n",
       "      <td>None</td>\n",
       "      <td>None</td>\n",
       "      <td>None</td>\n",
       "      <td>2006-05-26</td>\n",
       "      <td>H</td>\n",
       "      <td>NaN</td>\n",
       "      <td>2005-10-17</td>\n",
       "      <td>2007-11-07</td>\n",
       "      <td>Second</td>\n",
       "      <td>A</td>\n",
       "      <td>2</td>\n",
       "      <td>5.0</td>\n",
       "      <td>2006.0</td>\n",
       "      <td>26.0</td>\n",
       "      <td>10</td>\n",
       "      <td>2005</td>\n",
       "      <td>17</td>\n",
       "      <td>11</td>\n",
       "      <td>2007</td>\n",
       "      <td>7</td>\n",
       "      <td>0</td>\n",
       "      <td>751</td>\n",
       "      <td>0.0</td>\n",
       "      <td>1</td>\n",
       "      <td>3597</td>\n",
       "      <td>22359</td>\n",
       "      <td>7346</td>\n",
       "      <td>10197</td>\n",
       "      <td>11374</td>\n",
       "    </tr>\n",
       "    <tr>\n",
       "      <th>2</th>\n",
       "      <td>520968</td>\n",
       "      <td>6557</td>\n",
       "      <td>2004-01-07</td>\n",
       "      <td>0</td>\n",
       "      <td>0</td>\n",
       "      <td>0</td>\n",
       "      <td>0</td>\n",
       "      <td>0</td>\n",
       "      <td>1.0</td>\n",
       "      <td>20.0</td>\n",
       "      <td>0.611111</td>\n",
       "      <td>NaN</td>\n",
       "      <td>NaN</td>\n",
       "      <td>NaN</td>\n",
       "      <td>NaN</td>\n",
       "      <td>None</td>\n",
       "      <td>None</td>\n",
       "      <td>None</td>\n",
       "      <td>2004-01-07</td>\n",
       "      <td>H</td>\n",
       "      <td>NaN</td>\n",
       "      <td>2004-01-04</td>\n",
       "      <td>2004-01-09</td>\n",
       "      <td>First</td>\n",
       "      <td>C</td>\n",
       "      <td>2</td>\n",
       "      <td>1.0</td>\n",
       "      <td>2004.0</td>\n",
       "      <td>7.0</td>\n",
       "      <td>1</td>\n",
       "      <td>2004</td>\n",
       "      <td>4</td>\n",
       "      <td>1</td>\n",
       "      <td>2004</td>\n",
       "      <td>9</td>\n",
       "      <td>0</td>\n",
       "      <td>5</td>\n",
       "      <td>0.0</td>\n",
       "      <td>1</td>\n",
       "      <td>52</td>\n",
       "      <td>10902</td>\n",
       "      <td>6902</td>\n",
       "      <td>6319</td>\n",
       "      <td>5293</td>\n",
       "    </tr>\n",
       "    <tr>\n",
       "      <th>3</th>\n",
       "      <td>507625</td>\n",
       "      <td>6535</td>\n",
       "      <td>2004-02-12</td>\n",
       "      <td>0</td>\n",
       "      <td>0</td>\n",
       "      <td>0</td>\n",
       "      <td>0</td>\n",
       "      <td>0</td>\n",
       "      <td>0.0</td>\n",
       "      <td>NaN</td>\n",
       "      <td>NaN</td>\n",
       "      <td>NaN</td>\n",
       "      <td>NaN</td>\n",
       "      <td>NaN</td>\n",
       "      <td>NaN</td>\n",
       "      <td>None</td>\n",
       "      <td>None</td>\n",
       "      <td>None</td>\n",
       "      <td>2004-02-12</td>\n",
       "      <td>B</td>\n",
       "      <td>NaN</td>\n",
       "      <td>2004-02-01</td>\n",
       "      <td>2004-02-18</td>\n",
       "      <td>First</td>\n",
       "      <td>E</td>\n",
       "      <td>2</td>\n",
       "      <td>2.0</td>\n",
       "      <td>2004.0</td>\n",
       "      <td>12.0</td>\n",
       "      <td>2</td>\n",
       "      <td>2004</td>\n",
       "      <td>1</td>\n",
       "      <td>2</td>\n",
       "      <td>2004</td>\n",
       "      <td>18</td>\n",
       "      <td>0</td>\n",
       "      <td>17</td>\n",
       "      <td>0.0</td>\n",
       "      <td>1</td>\n",
       "      <td>1882</td>\n",
       "      <td>10902</td>\n",
       "      <td>8717</td>\n",
       "      <td>6319</td>\n",
       "      <td>9102</td>\n",
       "    </tr>\n",
       "    <tr>\n",
       "      <th>4</th>\n",
       "      <td>502611</td>\n",
       "      <td>6581</td>\n",
       "      <td>2004-03-14</td>\n",
       "      <td>0</td>\n",
       "      <td>0</td>\n",
       "      <td>0</td>\n",
       "      <td>0</td>\n",
       "      <td>0</td>\n",
       "      <td>0.0</td>\n",
       "      <td>NaN</td>\n",
       "      <td>NaN</td>\n",
       "      <td>NaN</td>\n",
       "      <td>NaN</td>\n",
       "      <td>NaN</td>\n",
       "      <td>NaN</td>\n",
       "      <td>None</td>\n",
       "      <td>None</td>\n",
       "      <td>None</td>\n",
       "      <td>2004-03-14</td>\n",
       "      <td>B</td>\n",
       "      <td>NaN</td>\n",
       "      <td>2003-12-07</td>\n",
       "      <td>2004-06-13</td>\n",
       "      <td>First</td>\n",
       "      <td>F</td>\n",
       "      <td>2</td>\n",
       "      <td>3.0</td>\n",
       "      <td>2004.0</td>\n",
       "      <td>14.0</td>\n",
       "      <td>12</td>\n",
       "      <td>2003</td>\n",
       "      <td>7</td>\n",
       "      <td>6</td>\n",
       "      <td>2004</td>\n",
       "      <td>13</td>\n",
       "      <td>0</td>\n",
       "      <td>189</td>\n",
       "      <td>0.0</td>\n",
       "      <td>2</td>\n",
       "      <td>1485</td>\n",
       "      <td>3081</td>\n",
       "      <td>6272</td>\n",
       "      <td>6319</td>\n",
       "      <td>5140</td>\n",
       "    </tr>\n",
       "  </tbody>\n",
       "</table>\n",
       "</div>"
      ],
      "text/plain": [
       "   Patient_ID  Health_Camp_ID Registration_Date  Var1  Var2  Var3  Var4  Var5  \\\n",
       "0      526927            6570        2005-05-14     0     0     0     0     0   \n",
       "1      510379            6534        2006-05-26     0     0     0     0     0   \n",
       "2      520968            6557        2004-01-07     0     0     0     0     0   \n",
       "3      507625            6535        2004-02-12     0     0     0     0     0   \n",
       "4      502611            6581        2004-03-14     0     0     0     0     0   \n",
       "\n",
       "   outcome  Donation  Health_Score  Unnamed: 4  Health Score  \\\n",
       "0      0.0       NaN           NaN         NaN           NaN   \n",
       "1      1.0       NaN           NaN         NaN      0.402054   \n",
       "2      1.0      20.0      0.611111         NaN           NaN   \n",
       "3      0.0       NaN           NaN         NaN           NaN   \n",
       "4      0.0       NaN           NaN         NaN           NaN   \n",
       "\n",
       "   Number_of_stall_visited  Last_Stall_Visited_Number Income Education_Score  \\\n",
       "0                      NaN                        NaN   None            None   \n",
       "1                      NaN                        NaN   None            None   \n",
       "2                      NaN                        NaN   None            None   \n",
       "3                      NaN                        NaN   None            None   \n",
       "4                      NaN                        NaN   None            None   \n",
       "\n",
       "    Age First_Interaction City_Type Employer_Category Camp_Start_Date  \\\n",
       "0  None        2004-11-14       NaN               NaN      2005-07-09   \n",
       "1  None        2006-05-26         H               NaN      2005-10-17   \n",
       "2  None        2004-01-07         H               NaN      2004-01-04   \n",
       "3  None        2004-02-12         B               NaN      2004-02-01   \n",
       "4  None        2004-03-14         B               NaN      2003-12-07   \n",
       "\n",
       "  Camp_End_Date Category1 Category2  Category3  Registration_Month  \\\n",
       "0    2005-07-22     First         E          2                 5.0   \n",
       "1    2007-11-07    Second         A          2                 5.0   \n",
       "2    2004-01-09     First         C          2                 1.0   \n",
       "3    2004-02-18     First         E          2                 2.0   \n",
       "4    2004-06-13     First         F          2                 3.0   \n",
       "\n",
       "   Registration_Year  Registration_Day  Camp_Start_Month  Camp_Start_Year  \\\n",
       "0             2005.0              14.0                 7             2005   \n",
       "1             2006.0              26.0                10             2005   \n",
       "2             2004.0               7.0                 1             2004   \n",
       "3             2004.0              12.0                 2             2004   \n",
       "4             2004.0              14.0                12             2003   \n",
       "\n",
       "   Camp_Start_Day  Camp_End_Month  Camp_End_Year  Camp_End_Day  \\\n",
       "0               9               7           2005            22   \n",
       "1              17              11           2007             7   \n",
       "2               4               1           2004             9   \n",
       "3               1               2           2004            18   \n",
       "4               7               6           2004            13   \n",
       "\n",
       "   Online_Presence  Camp_Duration  Int_Days_Diff  HC_per_patiency  \\\n",
       "0                0             13          181.0                2   \n",
       "1                0            751            0.0                1   \n",
       "2                0              5            0.0                1   \n",
       "3                0             17            0.0                1   \n",
       "4                0            189            0.0                2   \n",
       "\n",
       "   Patient_Per_HC  Patients_Per_Year  Patients_Per_Month  \\\n",
       "0            3564              22359                3564   \n",
       "1            3597              22359                7346   \n",
       "2              52              10902                6902   \n",
       "3            1882              10902                8717   \n",
       "4            1485               3081                6272   \n",
       "\n",
       "   Patients_Per_End_Year  Patients_Per_End_Month  \n",
       "0                  17330                    7008  \n",
       "1                  10197                   11374  \n",
       "2                   6319                    5293  \n",
       "3                   6319                    9102  \n",
       "4                   6319                    5140  "
      ]
     },
     "execution_count": 29,
     "metadata": {},
     "output_type": "execute_result"
    }
   ],
   "source": [
    "combined.head()"
   ]
  },
  {
   "cell_type": "code",
   "execution_count": 30,
   "id": "5f5fd77f",
   "metadata": {},
   "outputs": [
    {
     "data": {
      "text/plain": [
       "(75278, 44)"
      ]
     },
     "execution_count": 30,
     "metadata": {},
     "output_type": "execute_result"
    }
   ],
   "source": [
    "combined.shape"
   ]
  },
  {
   "cell_type": "code",
   "execution_count": 31,
   "id": "996bdf8b",
   "metadata": {},
   "outputs": [],
   "source": [
    "def newfeature(w,x,y,z):\n",
    "    if((w>0)|(x>0)|(y>0)|(z>0)):\n",
    "        return(1)\n",
    "    else:\n",
    "        return(0)"
   ]
  },
  {
   "cell_type": "code",
   "execution_count": 32,
   "id": "584bba51",
   "metadata": {},
   "outputs": [
    {
     "data": {
      "text/plain": [
       "Index(['Patient_ID', 'Health_Camp_ID', 'Registration_Date', 'Var1', 'Var2',\n",
       "       'Var3', 'Var4', 'Var5', 'outcome', 'Donation', 'Health_Score',\n",
       "       'Unnamed: 4', 'Health Score', 'Number_of_stall_visited',\n",
       "       'Last_Stall_Visited_Number', 'Income', 'Education_Score', 'Age',\n",
       "       'First_Interaction', 'City_Type', 'Employer_Category',\n",
       "       'Camp_Start_Date', 'Camp_End_Date', 'Category1', 'Category2',\n",
       "       'Category3', 'Registration_Month', 'Registration_Year',\n",
       "       'Registration_Day', 'Camp_Start_Month', 'Camp_Start_Year',\n",
       "       'Camp_Start_Day', 'Camp_End_Month', 'Camp_End_Year', 'Camp_End_Day',\n",
       "       'Online_Presence', 'Camp_Duration', 'Int_Days_Diff', 'HC_per_patiency',\n",
       "       'Patient_Per_HC', 'Patients_Per_Year', 'Patients_Per_Month',\n",
       "       'Patients_Per_End_Year', 'Patients_Per_End_Month'],\n",
       "      dtype='object')"
      ]
     },
     "execution_count": 32,
     "metadata": {},
     "output_type": "execute_result"
    }
   ],
   "source": [
    "combined.columns"
   ]
  },
  {
   "cell_type": "code",
   "execution_count": 33,
   "id": "806383ea",
   "metadata": {},
   "outputs": [],
   "source": [
    "combined['newfeature'] = combined.apply(lambda x:newfeature(x['Health_Score'],x['Health Score'],x['Number_of_stall_visited'],x['Last_Stall_Visited_Number']),axis=1)"
   ]
  },
  {
   "cell_type": "markdown",
   "id": "a06e3459",
   "metadata": {},
   "source": [
    "# Dropping Unnecessary variables"
   ]
  },
  {
   "cell_type": "code",
   "execution_count": 34,
   "id": "6a53ad38",
   "metadata": {},
   "outputs": [
    {
     "data": {
      "text/plain": [
       "Index(['Patient_ID', 'Health_Camp_ID', 'Registration_Date', 'Var1', 'Var2',\n",
       "       'Var3', 'Var4', 'Var5', 'outcome', 'Donation', 'Health_Score',\n",
       "       'Unnamed: 4', 'Health Score', 'Number_of_stall_visited',\n",
       "       'Last_Stall_Visited_Number', 'Income', 'Education_Score', 'Age',\n",
       "       'First_Interaction', 'City_Type', 'Employer_Category',\n",
       "       'Camp_Start_Date', 'Camp_End_Date', 'Category1', 'Category2',\n",
       "       'Category3', 'Registration_Month', 'Registration_Year',\n",
       "       'Registration_Day', 'Camp_Start_Month', 'Camp_Start_Year',\n",
       "       'Camp_Start_Day', 'Camp_End_Month', 'Camp_End_Year', 'Camp_End_Day',\n",
       "       'Online_Presence', 'Camp_Duration', 'Int_Days_Diff', 'HC_per_patiency',\n",
       "       'Patient_Per_HC', 'Patients_Per_Year', 'Patients_Per_Month',\n",
       "       'Patients_Per_End_Year', 'Patients_Per_End_Month', 'newfeature'],\n",
       "      dtype='object')"
      ]
     },
     "execution_count": 34,
     "metadata": {},
     "output_type": "execute_result"
    }
   ],
   "source": [
    "\n",
    "combined.columns"
   ]
  },
  {
   "cell_type": "code",
   "execution_count": 35,
   "id": "ba1e8792",
   "metadata": {},
   "outputs": [],
   "source": [
    "new = combined.drop(['Patient_ID', 'Health_Camp_ID', 'Registration_Date','Donation', 'Health_Score', 'Unnamed: 4',\n",
    "                   'Health Score', 'Number_of_stall_visited', 'Last_Stall_Visited_Number','Camp_Start_Date', \n",
    "                    'Camp_End_Date','Income', 'Education_Score', 'Age', 'First_Interaction','City_Type', \n",
    "                    'Employer_Category'],axis=1)"
   ]
  },
  {
   "cell_type": "markdown",
   "id": "8e415c86",
   "metadata": {},
   "source": [
    "# Null value treatment"
   ]
  },
  {
   "cell_type": "code",
   "execution_count": 36,
   "id": "430862cc",
   "metadata": {},
   "outputs": [
    {
     "data": {
      "text/plain": [
       "Var1                          0\n",
       "Var2                          0\n",
       "Var3                          0\n",
       "Var4                          0\n",
       "Var5                          0\n",
       "outcome                   22584\n",
       "Category1                     0\n",
       "Category2                     0\n",
       "Category3                     0\n",
       "Registration_Month          334\n",
       "Registration_Year           334\n",
       "Registration_Day            334\n",
       "Camp_Start_Month              0\n",
       "Camp_Start_Year               0\n",
       "Camp_Start_Day                0\n",
       "Camp_End_Month                0\n",
       "Camp_End_Year                 0\n",
       "Camp_End_Day                  0\n",
       "Online_Presence               0\n",
       "Camp_Duration                 0\n",
       "Int_Days_Diff               334\n",
       "HC_per_patiency               0\n",
       "Patient_Per_HC                0\n",
       "Patients_Per_Year             0\n",
       "Patients_Per_Month            0\n",
       "Patients_Per_End_Year         0\n",
       "Patients_Per_End_Month        0\n",
       "newfeature                    0\n",
       "dtype: int64"
      ]
     },
     "execution_count": 36,
     "metadata": {},
     "output_type": "execute_result"
    }
   ],
   "source": [
    "new.isnull().sum()"
   ]
  },
  {
   "cell_type": "code",
   "execution_count": 37,
   "id": "ba83af87",
   "metadata": {},
   "outputs": [
    {
     "data": {
      "text/plain": [
       "First     49892\n",
       "Second    15114\n",
       "Third     10272\n",
       "Name: Category1, dtype: int64"
      ]
     },
     "execution_count": 37,
     "metadata": {},
     "output_type": "execute_result"
    }
   ],
   "source": [
    "new.Category1.value_counts()"
   ]
  },
  {
   "cell_type": "code",
   "execution_count": 38,
   "id": "07ac5a24",
   "metadata": {},
   "outputs": [],
   "source": [
    "mapped  = {'First':1,'Second':2,'Third':3}\n",
    "new['Category1'] = new.Category1.map(mapped)"
   ]
  },
  {
   "cell_type": "code",
   "execution_count": 39,
   "id": "b4dfccf8",
   "metadata": {},
   "outputs": [
    {
     "data": {
      "text/plain": [
       "F    24660\n",
       "E    20988\n",
       "A    10993\n",
       "G    10272\n",
       "D     4121\n",
       "B     2426\n",
       "C     1818\n",
       "Name: Category2, dtype: int64"
      ]
     },
     "execution_count": 39,
     "metadata": {},
     "output_type": "execute_result"
    }
   ],
   "source": [
    "new.Category2.value_counts()"
   ]
  },
  {
   "cell_type": "code",
   "execution_count": 40,
   "id": "29d715ca",
   "metadata": {},
   "outputs": [],
   "source": [
    "\n",
    "new['Category2'] = pd.factorize(new.Category2,sort =True)[0]"
   ]
  },
  {
   "cell_type": "code",
   "execution_count": 41,
   "id": "c3c4a2b0",
   "metadata": {},
   "outputs": [
    {
     "data": {
      "text/plain": [
       "Var1                          0\n",
       "Var2                          0\n",
       "Var3                          0\n",
       "Var4                          0\n",
       "Var5                          0\n",
       "outcome                   22584\n",
       "Category1                     0\n",
       "Category2                     0\n",
       "Category3                     0\n",
       "Registration_Month          334\n",
       "Registration_Year           334\n",
       "Registration_Day            334\n",
       "Camp_Start_Month              0\n",
       "Camp_Start_Year               0\n",
       "Camp_Start_Day                0\n",
       "Camp_End_Month                0\n",
       "Camp_End_Year                 0\n",
       "Camp_End_Day                  0\n",
       "Online_Presence               0\n",
       "Camp_Duration                 0\n",
       "Int_Days_Diff               334\n",
       "HC_per_patiency               0\n",
       "Patient_Per_HC                0\n",
       "Patients_Per_Year             0\n",
       "Patients_Per_Month            0\n",
       "Patients_Per_End_Year         0\n",
       "Patients_Per_End_Month        0\n",
       "newfeature                    0\n",
       "dtype: int64"
      ]
     },
     "execution_count": 41,
     "metadata": {},
     "output_type": "execute_result"
    }
   ],
   "source": [
    "new.isnull().sum()"
   ]
  },
  {
   "cell_type": "code",
   "execution_count": 42,
   "id": "829e1d94",
   "metadata": {},
   "outputs": [],
   "source": [
    "new[\"Registration_Month\"] = new[\"Registration_Month\"].fillna(new[\"Registration_Month\"].mode()[0])\n"
   ]
  },
  {
   "cell_type": "code",
   "execution_count": 43,
   "id": "4d851966",
   "metadata": {},
   "outputs": [],
   "source": [
    "new['Registration_Year'] = new['Registration_Year'].fillna(new[\"Registration_Year\"].mode()[0])\n"
   ]
  },
  {
   "cell_type": "code",
   "execution_count": 44,
   "id": "42c6c689",
   "metadata": {},
   "outputs": [],
   "source": [
    "new['Registration_Day'] = new['Registration_Day'].fillna(new[\"Registration_Day\"].mode()[0])\n"
   ]
  },
  {
   "cell_type": "code",
   "execution_count": 45,
   "id": "a9f8b7d9",
   "metadata": {},
   "outputs": [],
   "source": [
    "new['Int_Days_Diff'] = new['Int_Days_Diff'].fillna(new['Int_Days_Diff'].median())"
   ]
  },
  {
   "cell_type": "code",
   "execution_count": 46,
   "id": "e8968fbf",
   "metadata": {},
   "outputs": [
    {
     "data": {
      "text/plain": [
       "Var1                          0\n",
       "Var2                          0\n",
       "Var3                          0\n",
       "Var4                          0\n",
       "Var5                          0\n",
       "outcome                   22584\n",
       "Category1                     0\n",
       "Category2                     0\n",
       "Category3                     0\n",
       "Registration_Month            0\n",
       "Registration_Year             0\n",
       "Registration_Day              0\n",
       "Camp_Start_Month              0\n",
       "Camp_Start_Year               0\n",
       "Camp_Start_Day                0\n",
       "Camp_End_Month                0\n",
       "Camp_End_Year                 0\n",
       "Camp_End_Day                  0\n",
       "Online_Presence               0\n",
       "Camp_Duration                 0\n",
       "Int_Days_Diff                 0\n",
       "HC_per_patiency               0\n",
       "Patient_Per_HC                0\n",
       "Patients_Per_Year             0\n",
       "Patients_Per_Month            0\n",
       "Patients_Per_End_Year         0\n",
       "Patients_Per_End_Month        0\n",
       "newfeature                    0\n",
       "dtype: int64"
      ]
     },
     "execution_count": 46,
     "metadata": {},
     "output_type": "execute_result"
    }
   ],
   "source": [
    "new.isnull().sum()"
   ]
  },
  {
   "cell_type": "markdown",
   "id": "6e62dc2c",
   "metadata": {},
   "source": [
    "# Splitting the data\n"
   ]
  },
  {
   "cell_type": "code",
   "execution_count": 47,
   "id": "c9e45d7e",
   "metadata": {},
   "outputs": [
    {
     "data": {
      "text/plain": [
       "((52694, 9), (22584, 8))"
      ]
     },
     "execution_count": 47,
     "metadata": {},
     "output_type": "execute_result"
    }
   ],
   "source": [
    "train.shape,test.shape"
   ]
  },
  {
   "cell_type": "code",
   "execution_count": 48,
   "id": "661e57b0",
   "metadata": {},
   "outputs": [],
   "source": [
    "newtrain = new.loc[0:train.shape[0]-1,:]\n",
    "newtest = new.loc[train.shape[0]:,:]"
   ]
  },
  {
   "cell_type": "code",
   "execution_count": 49,
   "id": "887476f5",
   "metadata": {},
   "outputs": [
    {
     "data": {
      "text/plain": [
       "((52694, 28), (22584, 28))"
      ]
     },
     "execution_count": 49,
     "metadata": {},
     "output_type": "execute_result"
    }
   ],
   "source": [
    "newtrain.shape,newtest.shape"
   ]
  },
  {
   "cell_type": "code",
   "execution_count": 50,
   "id": "d970918f",
   "metadata": {},
   "outputs": [],
   "source": [
    "#Drop target from test\n",
    "newtest.drop('outcome',axis=1,inplace=True)"
   ]
  },
  {
   "cell_type": "code",
   "execution_count": 51,
   "id": "1f79d941",
   "metadata": {},
   "outputs": [
    {
     "data": {
      "text/plain": [
       "((52694, 28), (22584, 27))"
      ]
     },
     "execution_count": 51,
     "metadata": {},
     "output_type": "execute_result"
    }
   ],
   "source": [
    "newtrain.shape,newtest.shape"
   ]
  },
  {
   "cell_type": "markdown",
   "id": "7c938f96",
   "metadata": {},
   "source": [
    "# Model Building"
   ]
  },
  {
   "cell_type": "code",
   "execution_count": 52,
   "id": "78c730a5",
   "metadata": {},
   "outputs": [],
   "source": [
    "#data in x ,y\n",
    "X= newtrain.drop('outcome',axis=1)\n",
    "y = newtrain['outcome']"
   ]
  },
  {
   "cell_type": "code",
   "execution_count": 53,
   "id": "5f76eeb9",
   "metadata": {},
   "outputs": [],
   "source": [
    "from sklearn.model_selection import train_test_split"
   ]
  },
  {
   "cell_type": "code",
   "execution_count": 54,
   "id": "29e1114b",
   "metadata": {},
   "outputs": [],
   "source": [
    "x_train,x_test,y_train,y_test = train_test_split(X,y,test_size=0.25,random_state=7)"
   ]
  },
  {
   "cell_type": "code",
   "execution_count": 70,
   "id": "5e4ed871",
   "metadata": {},
   "outputs": [],
   "source": [
    "dct = DecisionTreeClassifier()"
   ]
  },
  {
   "cell_type": "code",
   "execution_count": 74,
   "id": "28e7538a",
   "metadata": {},
   "outputs": [],
   "source": [
    "model = dct.fit(x_train,y_train)"
   ]
  },
  {
   "cell_type": "code",
   "execution_count": 76,
   "id": "9aba47ae",
   "metadata": {},
   "outputs": [],
   "source": [
    "pred = model.predict(x_test)"
   ]
  },
  {
   "cell_type": "code",
   "execution_count": 78,
   "id": "cae4fdf5",
   "metadata": {},
   "outputs": [
    {
     "data": {
      "text/plain": [
       "1.0"
      ]
     },
     "execution_count": 78,
     "metadata": {},
     "output_type": "execute_result"
    }
   ],
   "source": [
    "accuracy_score(y_test,pred)"
   ]
  },
  {
   "cell_type": "code",
   "execution_count": 55,
   "id": "e07ea849",
   "metadata": {},
   "outputs": [],
   "source": [
    "from sklearn.model_selection import train_test_split\n",
    "from sklearn.linear_model import LogisticRegression\n",
    "from sklearn.tree import DecisionTreeClassifier\n",
    "from sklearn.ensemble import RandomForestClassifier,GradientBoostingClassifier\n",
    "from catboost import CatBoostClassifier\n",
    "from xgboost import XGBClassifier\n",
    "from sklearn.ensemble import VotingClassifier\n",
    "from sklearn.metrics import accuracy_score"
   ]
  },
  {
   "cell_type": "code",
   "execution_count": 56,
   "id": "f4f62101",
   "metadata": {},
   "outputs": [],
   "source": [
    "#model \n",
    "lr = LogisticRegression()\n",
    "dct = DecisionTreeClassifier()\n",
    "rf = RandomForestClassifier()\n",
    "gbm = GradientBoostingClassifier()\n",
    "xgb =  XGBClassifier(eval_metric = 'auc')\n",
    "cboost = CatBoostClassifier(eval_metric = 'AUC')\n"
   ]
  },
  {
   "cell_type": "code",
   "execution_count": 57,
   "id": "4328de07",
   "metadata": {},
   "outputs": [],
   "source": [
    "\n",
    "def model_results(model,x_train,y_train,x_test,y_test):\n",
    "    print(str(model))\n",
    "    model.fit(x_train,y_train)\n",
    "    y_predtr = model.predict(x_train)\n",
    "    y_pred = model.predict(x_test)\n",
    "    \n",
    "    acctrain = accuracy_score(y_train,y_predtr)\n",
    "    acctest = accuracy_score(y_test,y_pred)\n",
    "   \n",
    "    print('accuracy score for train :\\t',acctrain)\n",
    "    print('accuracy score for test :\\t',acctest)\n",
    "  "
   ]
  },
  {
   "cell_type": "code",
   "execution_count": 58,
   "id": "7bafdb09",
   "metadata": {},
   "outputs": [
    {
     "name": "stdout",
     "output_type": "stream",
     "text": [
      "LogisticRegression()\n",
      "accuracy score for train :\t 0.7297317813765182\n",
      "accuracy score for test :\t 0.7227873083345985\n"
     ]
    }
   ],
   "source": [
    "model_results(lr,x_train,y_train,x_test,y_test)"
   ]
  },
  {
   "cell_type": "code",
   "execution_count": 59,
   "id": "26ae52d7",
   "metadata": {},
   "outputs": [
    {
     "name": "stdout",
     "output_type": "stream",
     "text": [
      "DecisionTreeClassifier()\n",
      "accuracy score for train :\t 1.0\n",
      "accuracy score for test :\t 1.0\n"
     ]
    }
   ],
   "source": [
    "model_results(dct,x_train,y_train,x_test,y_test)"
   ]
  },
  {
   "cell_type": "code",
   "execution_count": 60,
   "id": "db19a711",
   "metadata": {},
   "outputs": [
    {
     "name": "stdout",
     "output_type": "stream",
     "text": [
      "RandomForestClassifier()\n",
      "accuracy score for train :\t 1.0\n",
      "accuracy score for test :\t 1.0\n"
     ]
    }
   ],
   "source": [
    "model_results(rf,x_train,y_train,x_test,y_test)"
   ]
  },
  {
   "cell_type": "code",
   "execution_count": 79,
   "id": "e0c77cba",
   "metadata": {},
   "outputs": [
    {
     "name": "stdout",
     "output_type": "stream",
     "text": [
      "GradientBoostingClassifier()\n",
      "accuracy score for train :\t 1.0\n",
      "accuracy score for test :\t 1.0\n"
     ]
    }
   ],
   "source": [
    "model_results(gbm,x_train,y_train,x_test,y_test)"
   ]
  },
  {
   "cell_type": "markdown",
   "id": "7f3b6c1e",
   "metadata": {},
   "source": [
    "# Final Model"
   ]
  },
  {
   "cell_type": "code",
   "execution_count": 61,
   "id": "9e194c7f",
   "metadata": {},
   "outputs": [],
   "source": [
    "rf = RandomForestClassifier()"
   ]
  },
  {
   "cell_type": "code",
   "execution_count": 62,
   "id": "a13e728f",
   "metadata": {},
   "outputs": [
    {
     "data": {
      "text/html": [
       "<style>#sk-container-id-1 {color: black;background-color: white;}#sk-container-id-1 pre{padding: 0;}#sk-container-id-1 div.sk-toggleable {background-color: white;}#sk-container-id-1 label.sk-toggleable__label {cursor: pointer;display: block;width: 100%;margin-bottom: 0;padding: 0.3em;box-sizing: border-box;text-align: center;}#sk-container-id-1 label.sk-toggleable__label-arrow:before {content: \"▸\";float: left;margin-right: 0.25em;color: #696969;}#sk-container-id-1 label.sk-toggleable__label-arrow:hover:before {color: black;}#sk-container-id-1 div.sk-estimator:hover label.sk-toggleable__label-arrow:before {color: black;}#sk-container-id-1 div.sk-toggleable__content {max-height: 0;max-width: 0;overflow: hidden;text-align: left;background-color: #f0f8ff;}#sk-container-id-1 div.sk-toggleable__content pre {margin: 0.2em;color: black;border-radius: 0.25em;background-color: #f0f8ff;}#sk-container-id-1 input.sk-toggleable__control:checked~div.sk-toggleable__content {max-height: 200px;max-width: 100%;overflow: auto;}#sk-container-id-1 input.sk-toggleable__control:checked~label.sk-toggleable__label-arrow:before {content: \"▾\";}#sk-container-id-1 div.sk-estimator input.sk-toggleable__control:checked~label.sk-toggleable__label {background-color: #d4ebff;}#sk-container-id-1 div.sk-label input.sk-toggleable__control:checked~label.sk-toggleable__label {background-color: #d4ebff;}#sk-container-id-1 input.sk-hidden--visually {border: 0;clip: rect(1px 1px 1px 1px);clip: rect(1px, 1px, 1px, 1px);height: 1px;margin: -1px;overflow: hidden;padding: 0;position: absolute;width: 1px;}#sk-container-id-1 div.sk-estimator {font-family: monospace;background-color: #f0f8ff;border: 1px dotted black;border-radius: 0.25em;box-sizing: border-box;margin-bottom: 0.5em;}#sk-container-id-1 div.sk-estimator:hover {background-color: #d4ebff;}#sk-container-id-1 div.sk-parallel-item::after {content: \"\";width: 100%;border-bottom: 1px solid gray;flex-grow: 1;}#sk-container-id-1 div.sk-label:hover label.sk-toggleable__label {background-color: #d4ebff;}#sk-container-id-1 div.sk-serial::before {content: \"\";position: absolute;border-left: 1px solid gray;box-sizing: border-box;top: 0;bottom: 0;left: 50%;z-index: 0;}#sk-container-id-1 div.sk-serial {display: flex;flex-direction: column;align-items: center;background-color: white;padding-right: 0.2em;padding-left: 0.2em;position: relative;}#sk-container-id-1 div.sk-item {position: relative;z-index: 1;}#sk-container-id-1 div.sk-parallel {display: flex;align-items: stretch;justify-content: center;background-color: white;position: relative;}#sk-container-id-1 div.sk-item::before, #sk-container-id-1 div.sk-parallel-item::before {content: \"\";position: absolute;border-left: 1px solid gray;box-sizing: border-box;top: 0;bottom: 0;left: 50%;z-index: -1;}#sk-container-id-1 div.sk-parallel-item {display: flex;flex-direction: column;z-index: 1;position: relative;background-color: white;}#sk-container-id-1 div.sk-parallel-item:first-child::after {align-self: flex-end;width: 50%;}#sk-container-id-1 div.sk-parallel-item:last-child::after {align-self: flex-start;width: 50%;}#sk-container-id-1 div.sk-parallel-item:only-child::after {width: 0;}#sk-container-id-1 div.sk-dashed-wrapped {border: 1px dashed gray;margin: 0 0.4em 0.5em 0.4em;box-sizing: border-box;padding-bottom: 0.4em;background-color: white;}#sk-container-id-1 div.sk-label label {font-family: monospace;font-weight: bold;display: inline-block;line-height: 1.2em;}#sk-container-id-1 div.sk-label-container {text-align: center;}#sk-container-id-1 div.sk-container {/* jupyter's `normalize.less` sets `[hidden] { display: none; }` but bootstrap.min.css set `[hidden] { display: none !important; }` so we also need the `!important` here to be able to override the default hidden behavior on the sphinx rendered scikit-learn.org. See: https://github.com/scikit-learn/scikit-learn/issues/21755 */display: inline-block !important;position: relative;}#sk-container-id-1 div.sk-text-repr-fallback {display: none;}</style><div id=\"sk-container-id-1\" class=\"sk-top-container\"><div class=\"sk-text-repr-fallback\"><pre>RandomForestClassifier()</pre><b>In a Jupyter environment, please rerun this cell to show the HTML representation or trust the notebook. <br />On GitHub, the HTML representation is unable to render, please try loading this page with nbviewer.org.</b></div><div class=\"sk-container\" hidden><div class=\"sk-item\"><div class=\"sk-estimator sk-toggleable\"><input class=\"sk-toggleable__control sk-hidden--visually\" id=\"sk-estimator-id-1\" type=\"checkbox\" checked><label for=\"sk-estimator-id-1\" class=\"sk-toggleable__label sk-toggleable__label-arrow\">RandomForestClassifier</label><div class=\"sk-toggleable__content\"><pre>RandomForestClassifier()</pre></div></div></div></div></div>"
      ],
      "text/plain": [
       "RandomForestClassifier()"
      ]
     },
     "execution_count": 62,
     "metadata": {},
     "output_type": "execute_result"
    }
   ],
   "source": [
    "rf.fit(X,y)"
   ]
  },
  {
   "cell_type": "code",
   "execution_count": 63,
   "id": "09ffe2f6",
   "metadata": {},
   "outputs": [
    {
     "data": {
      "text/plain": [
       "1.0"
      ]
     },
     "execution_count": 63,
     "metadata": {},
     "output_type": "execute_result"
    }
   ],
   "source": [
    "accuracy_score(y,rf.predict(X))"
   ]
  },
  {
   "cell_type": "code",
   "execution_count": 64,
   "id": "8e8623ea",
   "metadata": {},
   "outputs": [],
   "source": [
    "pred =rf.predict(newtest)"
   ]
  },
  {
   "cell_type": "code",
   "execution_count": 65,
   "id": "0790539b",
   "metadata": {},
   "outputs": [],
   "source": [
    "sample = pd.read_csv(r\"D:\\great learning\\competition\\GL\\Sample_Submission.csv\")"
   ]
  },
  {
   "cell_type": "code",
   "execution_count": 66,
   "id": "e4b572e9",
   "metadata": {},
   "outputs": [],
   "source": [
    "sample.outcome = pred"
   ]
  },
  {
   "cell_type": "code",
   "execution_count": 67,
   "id": "d5aac0b2",
   "metadata": {},
   "outputs": [
    {
     "data": {
      "text/plain": [
       "(22584, 2)"
      ]
     },
     "execution_count": 67,
     "metadata": {},
     "output_type": "execute_result"
    }
   ],
   "source": [
    "sample.shape"
   ]
  },
  {
   "cell_type": "code",
   "execution_count": 68,
   "id": "7d0b8095",
   "metadata": {},
   "outputs": [],
   "source": [
    "sample.to_csv('sample4.csv',index=False)"
   ]
  },
  {
   "cell_type": "markdown",
   "id": "f1d44843",
   "metadata": {},
   "source": [
    "# Summary\n",
    "* Importing the libraries\n",
    "* Data Reading\n",
    "* Combining the data\n",
    "* Merging the Data\n",
    "* Feature Engineering\n",
    "* Dropping Unnecessary variables\n",
    "* Null value treatment\n",
    "* Splitting the data\n",
    "* Model Building\n",
    "    *Tried different model\n",
    "* Final model RandomForest with accuracy of 100%"
   ]
  }
 ],
 "metadata": {
  "kernelspec": {
   "display_name": "Python 3 (ipykernel)",
   "language": "python",
   "name": "python3"
  },
  "language_info": {
   "codemirror_mode": {
    "name": "ipython",
    "version": 3
   },
   "file_extension": ".py",
   "mimetype": "text/x-python",
   "name": "python",
   "nbconvert_exporter": "python",
   "pygments_lexer": "ipython3",
   "version": "3.9.7"
  }
 },
 "nbformat": 4,
 "nbformat_minor": 5
}
